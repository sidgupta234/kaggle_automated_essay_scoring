{
 "cells": [
  {
   "cell_type": "code",
   "execution_count": 1,
   "id": "fd3e0662",
   "metadata": {},
   "outputs": [],
   "source": [
    "import numpy as np, pandas as pd, sklearn, matplotlib.pyplot as plt, seaborn as sns"
   ]
  },
  {
   "cell_type": "code",
   "execution_count": 2,
   "id": "9d5dca37",
   "metadata": {},
   "outputs": [],
   "source": [
    "# from nltk.tokenize import word_tokenize, sent_tokenize\n",
    "# from transformers import AutoTokenizer"
   ]
  },
  {
   "cell_type": "code",
   "execution_count": 3,
   "id": "5aeb8a58",
   "metadata": {},
   "outputs": [],
   "source": [
    "dataset = pd.read_csv('data/train.csv')"
   ]
  },
  {
   "cell_type": "code",
   "execution_count": 4,
   "id": "29b857d2",
   "metadata": {},
   "outputs": [
    {
     "data": {
      "text/plain": [
       "(3911, 8)"
      ]
     },
     "execution_count": 4,
     "metadata": {},
     "output_type": "execute_result"
    }
   ],
   "source": [
    "dataset.shape"
   ]
  },
  {
   "cell_type": "code",
   "execution_count": 5,
   "id": "9bdaf6b0",
   "metadata": {},
   "outputs": [
    {
     "data": {
      "text/plain": [
       "Index(['text_id', 'full_text', 'cohesion', 'syntax', 'vocabulary',\n",
       "       'phraseology', 'grammar', 'conventions'],\n",
       "      dtype='object')"
      ]
     },
     "execution_count": 5,
     "metadata": {},
     "output_type": "execute_result"
    }
   ],
   "source": [
    "dataset.columns"
   ]
  },
  {
   "cell_type": "code",
   "execution_count": 20,
   "id": "275ae00c",
   "metadata": {},
   "outputs": [
    {
     "data": {
      "text/html": [
       "<div>\n",
       "<style scoped>\n",
       "    .dataframe tbody tr th:only-of-type {\n",
       "        vertical-align: middle;\n",
       "    }\n",
       "\n",
       "    .dataframe tbody tr th {\n",
       "        vertical-align: top;\n",
       "    }\n",
       "\n",
       "    .dataframe thead th {\n",
       "        text-align: right;\n",
       "    }\n",
       "</style>\n",
       "<table border=\"1\" class=\"dataframe\">\n",
       "  <thead>\n",
       "    <tr style=\"text-align: right;\">\n",
       "      <th></th>\n",
       "      <th>text_id</th>\n",
       "      <th>full_text</th>\n",
       "      <th>cohesion</th>\n",
       "      <th>syntax</th>\n",
       "      <th>vocabulary</th>\n",
       "      <th>phraseology</th>\n",
       "      <th>grammar</th>\n",
       "      <th>conventions</th>\n",
       "    </tr>\n",
       "  </thead>\n",
       "  <tbody>\n",
       "    <tr>\n",
       "      <th>0</th>\n",
       "      <td>0016926B079C</td>\n",
       "      <td>I think that students would benefit from learn...</td>\n",
       "      <td>3.5</td>\n",
       "      <td>3.5</td>\n",
       "      <td>3.0</td>\n",
       "      <td>3.0</td>\n",
       "      <td>4.0</td>\n",
       "      <td>3.0</td>\n",
       "    </tr>\n",
       "    <tr>\n",
       "      <th>1</th>\n",
       "      <td>0022683E9EA5</td>\n",
       "      <td>When a problem is a change you have to let it ...</td>\n",
       "      <td>2.5</td>\n",
       "      <td>2.5</td>\n",
       "      <td>3.0</td>\n",
       "      <td>2.0</td>\n",
       "      <td>2.0</td>\n",
       "      <td>2.5</td>\n",
       "    </tr>\n",
       "    <tr>\n",
       "      <th>2</th>\n",
       "      <td>00299B378633</td>\n",
       "      <td>Dear, Principal\\n\\nIf u change the school poli...</td>\n",
       "      <td>3.0</td>\n",
       "      <td>3.5</td>\n",
       "      <td>3.0</td>\n",
       "      <td>3.0</td>\n",
       "      <td>3.0</td>\n",
       "      <td>2.5</td>\n",
       "    </tr>\n",
       "    <tr>\n",
       "      <th>3</th>\n",
       "      <td>003885A45F42</td>\n",
       "      <td>The best time in life is when you become yours...</td>\n",
       "      <td>4.5</td>\n",
       "      <td>4.5</td>\n",
       "      <td>4.5</td>\n",
       "      <td>4.5</td>\n",
       "      <td>4.0</td>\n",
       "      <td>5.0</td>\n",
       "    </tr>\n",
       "    <tr>\n",
       "      <th>4</th>\n",
       "      <td>0049B1DF5CCC</td>\n",
       "      <td>Small act of kindness can impact in other peop...</td>\n",
       "      <td>2.5</td>\n",
       "      <td>3.0</td>\n",
       "      <td>3.0</td>\n",
       "      <td>3.0</td>\n",
       "      <td>2.5</td>\n",
       "      <td>2.5</td>\n",
       "    </tr>\n",
       "  </tbody>\n",
       "</table>\n",
       "</div>"
      ],
      "text/plain": [
       "        text_id                                          full_text  cohesion  \\\n",
       "0  0016926B079C  I think that students would benefit from learn...       3.5   \n",
       "1  0022683E9EA5  When a problem is a change you have to let it ...       2.5   \n",
       "2  00299B378633  Dear, Principal\\n\\nIf u change the school poli...       3.0   \n",
       "3  003885A45F42  The best time in life is when you become yours...       4.5   \n",
       "4  0049B1DF5CCC  Small act of kindness can impact in other peop...       2.5   \n",
       "\n",
       "   syntax  vocabulary  phraseology  grammar  conventions  \n",
       "0     3.5         3.0          3.0      4.0          3.0  \n",
       "1     2.5         3.0          2.0      2.0          2.5  \n",
       "2     3.5         3.0          3.0      3.0          2.5  \n",
       "3     4.5         4.5          4.5      4.0          5.0  \n",
       "4     3.0         3.0          3.0      2.5          2.5  "
      ]
     },
     "execution_count": 20,
     "metadata": {},
     "output_type": "execute_result"
    }
   ],
   "source": [
    "dataset.head(5)"
   ]
  },
  {
   "cell_type": "code",
   "execution_count": 18,
   "id": "721a0670",
   "metadata": {},
   "outputs": [
    {
     "data": {
      "text/html": [
       "<div>\n",
       "<style scoped>\n",
       "    .dataframe tbody tr th:only-of-type {\n",
       "        vertical-align: middle;\n",
       "    }\n",
       "\n",
       "    .dataframe tbody tr th {\n",
       "        vertical-align: top;\n",
       "    }\n",
       "\n",
       "    .dataframe thead th {\n",
       "        text-align: right;\n",
       "    }\n",
       "</style>\n",
       "<table border=\"1\" class=\"dataframe\">\n",
       "  <thead>\n",
       "    <tr style=\"text-align: right;\">\n",
       "      <th></th>\n",
       "      <th>cohesion</th>\n",
       "      <th>syntax</th>\n",
       "      <th>vocabulary</th>\n",
       "      <th>phraseology</th>\n",
       "      <th>grammar</th>\n",
       "      <th>conventions</th>\n",
       "    </tr>\n",
       "  </thead>\n",
       "  <tbody>\n",
       "    <tr>\n",
       "      <th>count</th>\n",
       "      <td>3911.000000</td>\n",
       "      <td>3911.000000</td>\n",
       "      <td>3911.000000</td>\n",
       "      <td>3911.000000</td>\n",
       "      <td>3911.000000</td>\n",
       "      <td>3911.000000</td>\n",
       "    </tr>\n",
       "    <tr>\n",
       "      <th>mean</th>\n",
       "      <td>3.127077</td>\n",
       "      <td>3.028254</td>\n",
       "      <td>3.235745</td>\n",
       "      <td>3.116850</td>\n",
       "      <td>3.032856</td>\n",
       "      <td>3.081053</td>\n",
       "    </tr>\n",
       "    <tr>\n",
       "      <th>std</th>\n",
       "      <td>0.662542</td>\n",
       "      <td>0.644399</td>\n",
       "      <td>0.583148</td>\n",
       "      <td>0.655997</td>\n",
       "      <td>0.699841</td>\n",
       "      <td>0.671450</td>\n",
       "    </tr>\n",
       "    <tr>\n",
       "      <th>min</th>\n",
       "      <td>1.000000</td>\n",
       "      <td>1.000000</td>\n",
       "      <td>1.000000</td>\n",
       "      <td>1.000000</td>\n",
       "      <td>1.000000</td>\n",
       "      <td>1.000000</td>\n",
       "    </tr>\n",
       "    <tr>\n",
       "      <th>25%</th>\n",
       "      <td>2.500000</td>\n",
       "      <td>2.500000</td>\n",
       "      <td>3.000000</td>\n",
       "      <td>2.500000</td>\n",
       "      <td>2.500000</td>\n",
       "      <td>2.500000</td>\n",
       "    </tr>\n",
       "    <tr>\n",
       "      <th>50%</th>\n",
       "      <td>3.000000</td>\n",
       "      <td>3.000000</td>\n",
       "      <td>3.000000</td>\n",
       "      <td>3.000000</td>\n",
       "      <td>3.000000</td>\n",
       "      <td>3.000000</td>\n",
       "    </tr>\n",
       "    <tr>\n",
       "      <th>75%</th>\n",
       "      <td>3.500000</td>\n",
       "      <td>3.500000</td>\n",
       "      <td>3.500000</td>\n",
       "      <td>3.500000</td>\n",
       "      <td>3.500000</td>\n",
       "      <td>3.500000</td>\n",
       "    </tr>\n",
       "    <tr>\n",
       "      <th>max</th>\n",
       "      <td>5.000000</td>\n",
       "      <td>5.000000</td>\n",
       "      <td>5.000000</td>\n",
       "      <td>5.000000</td>\n",
       "      <td>5.000000</td>\n",
       "      <td>5.000000</td>\n",
       "    </tr>\n",
       "  </tbody>\n",
       "</table>\n",
       "</div>"
      ],
      "text/plain": [
       "          cohesion       syntax   vocabulary  phraseology      grammar  \\\n",
       "count  3911.000000  3911.000000  3911.000000  3911.000000  3911.000000   \n",
       "mean      3.127077     3.028254     3.235745     3.116850     3.032856   \n",
       "std       0.662542     0.644399     0.583148     0.655997     0.699841   \n",
       "min       1.000000     1.000000     1.000000     1.000000     1.000000   \n",
       "25%       2.500000     2.500000     3.000000     2.500000     2.500000   \n",
       "50%       3.000000     3.000000     3.000000     3.000000     3.000000   \n",
       "75%       3.500000     3.500000     3.500000     3.500000     3.500000   \n",
       "max       5.000000     5.000000     5.000000     5.000000     5.000000   \n",
       "\n",
       "       conventions  \n",
       "count  3911.000000  \n",
       "mean      3.081053  \n",
       "std       0.671450  \n",
       "min       1.000000  \n",
       "25%       2.500000  \n",
       "50%       3.000000  \n",
       "75%       3.500000  \n",
       "max       5.000000  "
      ]
     },
     "execution_count": 18,
     "metadata": {},
     "output_type": "execute_result"
    }
   ],
   "source": [
    "dataset.describe()"
   ]
  },
  {
   "cell_type": "code",
   "execution_count": 7,
   "id": "2a3f5f74",
   "metadata": {},
   "outputs": [],
   "source": [
    "essays = dataset.full_text.to_list()\n",
    "all_words = \" \".join(essays)"
   ]
  },
  {
   "cell_type": "code",
   "execution_count": 8,
   "id": "58a96284",
   "metadata": {},
   "outputs": [
    {
     "data": {
      "text/plain": [
       "9134227"
      ]
     },
     "execution_count": 8,
     "metadata": {},
     "output_type": "execute_result"
    }
   ],
   "source": [
    "len(all_words)"
   ]
  },
  {
   "cell_type": "code",
   "execution_count": 30,
   "id": "d232b7cd",
   "metadata": {},
   "outputs": [
    {
     "data": {
      "text/html": [
       "<style type=\"text/css\">\n",
       "#T_e4190_row0_col0, #T_e4190_row0_col3, #T_e4190_row0_col4, #T_e4190_row0_col5, #T_e4190_row0_col6, #T_e4190_row0_col7, #T_e4190_row1_col0, #T_e4190_row1_col1, #T_e4190_row1_col3, #T_e4190_row1_col4, #T_e4190_row1_col5, #T_e4190_row1_col6, #T_e4190_row1_col7, #T_e4190_row2_col0, #T_e4190_row2_col2, #T_e4190_row2_col3, #T_e4190_row2_col5, #T_e4190_row2_col6, #T_e4190_row2_col7, #T_e4190_row3_col0, #T_e4190_row3_col3, #T_e4190_row3_col4, #T_e4190_row3_col5, #T_e4190_row3_col6, #T_e4190_row3_col7, #T_e4190_row4_col0, #T_e4190_row4_col3, #T_e4190_row4_col4, #T_e4190_row4_col5, #T_e4190_row4_col6, #T_e4190_row4_col7, #T_e4190_row5_col0, #T_e4190_row5_col3, #T_e4190_row5_col4, #T_e4190_row5_col5, #T_e4190_row5_col6, #T_e4190_row5_col7 {\n",
       "  background-color: #fff5f0;\n",
       "  color: #000000;\n",
       "}\n",
       "#T_e4190_row0_col1 {\n",
       "  background-color: #fb7252;\n",
       "  color: #f1f1f1;\n",
       "}\n",
       "#T_e4190_row0_col2 {\n",
       "  background-color: #de2b25;\n",
       "  color: #f1f1f1;\n",
       "}\n",
       "#T_e4190_row1_col2 {\n",
       "  background-color: #f96044;\n",
       "  color: #f1f1f1;\n",
       "}\n",
       "#T_e4190_row2_col1, #T_e4190_row2_col4, #T_e4190_row4_col2 {\n",
       "  background-color: #67000d;\n",
       "  color: #f1f1f1;\n",
       "}\n",
       "#T_e4190_row3_col1 {\n",
       "  background-color: #fc8161;\n",
       "  color: #f1f1f1;\n",
       "}\n",
       "#T_e4190_row3_col2 {\n",
       "  background-color: #ef3c2c;\n",
       "  color: #f1f1f1;\n",
       "}\n",
       "#T_e4190_row4_col1 {\n",
       "  background-color: #fff2eb;\n",
       "  color: #000000;\n",
       "}\n",
       "#T_e4190_row5_col1 {\n",
       "  background-color: #fcb99f;\n",
       "  color: #000000;\n",
       "}\n",
       "#T_e4190_row5_col2 {\n",
       "  background-color: #c9181d;\n",
       "  color: #f1f1f1;\n",
       "}\n",
       "</style>\n",
       "<table id=\"T_e4190\">\n",
       "  <thead>\n",
       "    <tr>\n",
       "      <th class=\"blank level0\" >&nbsp;</th>\n",
       "      <th id=\"T_e4190_level0_col0\" class=\"col_heading level0 col0\" >count</th>\n",
       "      <th id=\"T_e4190_level0_col1\" class=\"col_heading level0 col1\" >mean</th>\n",
       "      <th id=\"T_e4190_level0_col2\" class=\"col_heading level0 col2\" >std</th>\n",
       "      <th id=\"T_e4190_level0_col3\" class=\"col_heading level0 col3\" >min</th>\n",
       "      <th id=\"T_e4190_level0_col4\" class=\"col_heading level0 col4\" >25%</th>\n",
       "      <th id=\"T_e4190_level0_col5\" class=\"col_heading level0 col5\" >50%</th>\n",
       "      <th id=\"T_e4190_level0_col6\" class=\"col_heading level0 col6\" >75%</th>\n",
       "      <th id=\"T_e4190_level0_col7\" class=\"col_heading level0 col7\" >max</th>\n",
       "    </tr>\n",
       "  </thead>\n",
       "  <tbody>\n",
       "    <tr>\n",
       "      <th id=\"T_e4190_level0_row0\" class=\"row_heading level0 row0\" >cohesion</th>\n",
       "      <td id=\"T_e4190_row0_col0\" class=\"data row0 col0\" >3911.000000</td>\n",
       "      <td id=\"T_e4190_row0_col1\" class=\"data row0 col1\" >3.127077</td>\n",
       "      <td id=\"T_e4190_row0_col2\" class=\"data row0 col2\" >0.662542</td>\n",
       "      <td id=\"T_e4190_row0_col3\" class=\"data row0 col3\" >1.000000</td>\n",
       "      <td id=\"T_e4190_row0_col4\" class=\"data row0 col4\" >2.500000</td>\n",
       "      <td id=\"T_e4190_row0_col5\" class=\"data row0 col5\" >3.000000</td>\n",
       "      <td id=\"T_e4190_row0_col6\" class=\"data row0 col6\" >3.500000</td>\n",
       "      <td id=\"T_e4190_row0_col7\" class=\"data row0 col7\" >5.000000</td>\n",
       "    </tr>\n",
       "    <tr>\n",
       "      <th id=\"T_e4190_level0_row1\" class=\"row_heading level0 row1\" >syntax</th>\n",
       "      <td id=\"T_e4190_row1_col0\" class=\"data row1 col0\" >3911.000000</td>\n",
       "      <td id=\"T_e4190_row1_col1\" class=\"data row1 col1\" >3.028254</td>\n",
       "      <td id=\"T_e4190_row1_col2\" class=\"data row1 col2\" >0.644399</td>\n",
       "      <td id=\"T_e4190_row1_col3\" class=\"data row1 col3\" >1.000000</td>\n",
       "      <td id=\"T_e4190_row1_col4\" class=\"data row1 col4\" >2.500000</td>\n",
       "      <td id=\"T_e4190_row1_col5\" class=\"data row1 col5\" >3.000000</td>\n",
       "      <td id=\"T_e4190_row1_col6\" class=\"data row1 col6\" >3.500000</td>\n",
       "      <td id=\"T_e4190_row1_col7\" class=\"data row1 col7\" >5.000000</td>\n",
       "    </tr>\n",
       "    <tr>\n",
       "      <th id=\"T_e4190_level0_row2\" class=\"row_heading level0 row2\" >vocabulary</th>\n",
       "      <td id=\"T_e4190_row2_col0\" class=\"data row2 col0\" >3911.000000</td>\n",
       "      <td id=\"T_e4190_row2_col1\" class=\"data row2 col1\" >3.235745</td>\n",
       "      <td id=\"T_e4190_row2_col2\" class=\"data row2 col2\" >0.583148</td>\n",
       "      <td id=\"T_e4190_row2_col3\" class=\"data row2 col3\" >1.000000</td>\n",
       "      <td id=\"T_e4190_row2_col4\" class=\"data row2 col4\" >3.000000</td>\n",
       "      <td id=\"T_e4190_row2_col5\" class=\"data row2 col5\" >3.000000</td>\n",
       "      <td id=\"T_e4190_row2_col6\" class=\"data row2 col6\" >3.500000</td>\n",
       "      <td id=\"T_e4190_row2_col7\" class=\"data row2 col7\" >5.000000</td>\n",
       "    </tr>\n",
       "    <tr>\n",
       "      <th id=\"T_e4190_level0_row3\" class=\"row_heading level0 row3\" >phraseology</th>\n",
       "      <td id=\"T_e4190_row3_col0\" class=\"data row3 col0\" >3911.000000</td>\n",
       "      <td id=\"T_e4190_row3_col1\" class=\"data row3 col1\" >3.116850</td>\n",
       "      <td id=\"T_e4190_row3_col2\" class=\"data row3 col2\" >0.655997</td>\n",
       "      <td id=\"T_e4190_row3_col3\" class=\"data row3 col3\" >1.000000</td>\n",
       "      <td id=\"T_e4190_row3_col4\" class=\"data row3 col4\" >2.500000</td>\n",
       "      <td id=\"T_e4190_row3_col5\" class=\"data row3 col5\" >3.000000</td>\n",
       "      <td id=\"T_e4190_row3_col6\" class=\"data row3 col6\" >3.500000</td>\n",
       "      <td id=\"T_e4190_row3_col7\" class=\"data row3 col7\" >5.000000</td>\n",
       "    </tr>\n",
       "    <tr>\n",
       "      <th id=\"T_e4190_level0_row4\" class=\"row_heading level0 row4\" >grammar</th>\n",
       "      <td id=\"T_e4190_row4_col0\" class=\"data row4 col0\" >3911.000000</td>\n",
       "      <td id=\"T_e4190_row4_col1\" class=\"data row4 col1\" >3.032856</td>\n",
       "      <td id=\"T_e4190_row4_col2\" class=\"data row4 col2\" >0.699841</td>\n",
       "      <td id=\"T_e4190_row4_col3\" class=\"data row4 col3\" >1.000000</td>\n",
       "      <td id=\"T_e4190_row4_col4\" class=\"data row4 col4\" >2.500000</td>\n",
       "      <td id=\"T_e4190_row4_col5\" class=\"data row4 col5\" >3.000000</td>\n",
       "      <td id=\"T_e4190_row4_col6\" class=\"data row4 col6\" >3.500000</td>\n",
       "      <td id=\"T_e4190_row4_col7\" class=\"data row4 col7\" >5.000000</td>\n",
       "    </tr>\n",
       "    <tr>\n",
       "      <th id=\"T_e4190_level0_row5\" class=\"row_heading level0 row5\" >conventions</th>\n",
       "      <td id=\"T_e4190_row5_col0\" class=\"data row5 col0\" >3911.000000</td>\n",
       "      <td id=\"T_e4190_row5_col1\" class=\"data row5 col1\" >3.081053</td>\n",
       "      <td id=\"T_e4190_row5_col2\" class=\"data row5 col2\" >0.671450</td>\n",
       "      <td id=\"T_e4190_row5_col3\" class=\"data row5 col3\" >1.000000</td>\n",
       "      <td id=\"T_e4190_row5_col4\" class=\"data row5 col4\" >2.500000</td>\n",
       "      <td id=\"T_e4190_row5_col5\" class=\"data row5 col5\" >3.000000</td>\n",
       "      <td id=\"T_e4190_row5_col6\" class=\"data row5 col6\" >3.500000</td>\n",
       "      <td id=\"T_e4190_row5_col7\" class=\"data row5 col7\" >5.000000</td>\n",
       "    </tr>\n",
       "  </tbody>\n",
       "</table>\n"
      ],
      "text/plain": [
       "<pandas.io.formats.style.Styler at 0x7fd4ebdf7010>"
      ]
     },
     "execution_count": 30,
     "metadata": {},
     "output_type": "execute_result"
    }
   ],
   "source": [
    "dataset.select_dtypes(['float']).describe().T.style.background_gradient(cmap='Reds')"
   ]
  },
  {
   "cell_type": "code",
   "execution_count": 17,
   "id": "274d7f6c",
   "metadata": {},
   "outputs": [
    {
     "name": "stderr",
     "output_type": "stream",
     "text": [
      "/var/folders/bf/q5yxflfx4jgf6b5tpfxq9ll80000gn/T/ipykernel_22807/2102539432.py:12: UserWarning: Matplotlib is currently using module://matplotlib_inline.backend_inline, which is a non-GUI backend, so cannot show the figure.\n",
      "  fig.show()\n"
     ]
    },
    {
     "data": {
      "image/png": "[encoded data removed]",
      "text/plain": [
       "<Figure size 1600x1200 with 6 Axes>"
      ]
     },
     "metadata": {},
     "output_type": "display_data"
    }
   ],
   "source": [
    "fig, axs = plt.subplots(ncols=3, nrows = 2)\n",
    "sns.set(rc={'figure.figsize':(16,12)})\n",
    "\n",
    "for iter_, i in enumerate(dataset.columns):\n",
    "    if i not in ['text_id', 'full_text']:\n",
    "        row = iter_//3\n",
    "        col = iter_%3\n",
    "        #print(row, col)\n",
    "        c = sns.countplot(x = dataset[i], data = dataset, ax=axs[row-1][col])#, normalize=True)\n",
    "        c.set(ylim=(0, 1600))\n",
    "        \n",
    "fig.show()"
   ]
  },
  {
   "cell_type": "code",
   "execution_count": 19,
   "id": "f1a13507",
   "metadata": {},
   "outputs": [],
   "source": [
    "# tokenizer = AutoTokenizer.from_pretrained(\"microsoft/deberta-v3-large\")\n",
    "# dataset['text_length'] = dataset['full_text'].apply(lambda x: len(x.split()))\n",
    "# dataset['tokens_length'] = dataset['full_text'].apply(lambda x: len(tokenizer(x, add_special_tokens=True)['input_ids']))"
   ]
  },
  {
   "cell_type": "code",
   "execution_count": 31,
   "id": "63198fb0",
   "metadata": {},
   "outputs": [
    {
     "data": {
      "text/plain": [
       "\"I think that students would benefit from learning at home,because they wont have to change and get up early in the morning to shower and do there hair. taking only classes helps them because at there house they'll be pay more attention. they will be comfortable at home.\\n\\nThe hardest part of school is getting ready. you wake up go brush your teeth and go to your closet and look at your cloths. after you think you picked a outfit u go look in the mirror and youll either not like it or you look and see a stain. Then you'll have to change. with the online classes you can wear anything and stay home and you wont need to stress about what to wear.\\n\\nmost students usually take showers before school. they either take it before they sleep or when they wake up. some students do both to smell good. that causes them do miss the bus and effects on there lesson time cause they come late to school. when u have online classes u wont need to miss lessons cause you can get everything set up and go take a shower and when u get out your ready to go.\\n\\nwhen your home your comfortable and you pay attention. it gives then an advantage to be smarter and even pass there classmates on class work. public schools are difficult even if you try. some teacher dont know how to teach it in then way that students understand it. that causes students to fail and they may repeat the class.              \""
      ]
     },
     "execution_count": 31,
     "metadata": {},
     "output_type": "execute_result"
    }
   ],
   "source": [
    "dataset['full_text'][0]"
   ]
  },
  {
   "cell_type": "code",
   "execution_count": null,
   "id": "3df5619e",
   "metadata": {},
   "outputs": [],
   "source": []
  }
 ],
 "metadata": {
  "kernelspec": {
   "display_name": "Python 3 (ipykernel)",
   "language": "python",
   "name": "python3"
  },
  "language_info": {
   "codemirror_mode": {
    "name": "ipython",
    "version": 3
   },
   "file_extension": ".py",
   "mimetype": "text/x-python",
   "name": "python",
   "nbconvert_exporter": "python",
   "pygments_lexer": "ipython3",
   "version": "3.10.6"
  }
 },
 "nbformat": 4,
 "nbformat_minor": 5
}
